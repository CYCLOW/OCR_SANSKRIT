{
 "cells": [
  {
   "cell_type": "markdown",
   "id": "liked-board",
   "metadata": {},
   "source": [
    "<h1><center>OCR Project To Detect Sanskrit From A Pdf File</center></h1>"
   ]
  },
  {
   "cell_type": "markdown",
   "id": "mediterranean-starter",
   "metadata": {},
   "source": [
    "## Summary For The Notebook :"
   ]
  },
  {
   "cell_type": "markdown",
   "id": "published-convertible",
   "metadata": {},
   "source": [
    "* Converts Pdf Pages To A List Of Images.\n",
    "* Scans The Images.\n",
    "* Detects For Possible Sanskrit Words.\n",
    "* Creates a Bounding Box Around The Detected Word.\n",
    "* Captures The Box And Saves It As An Image File With Extension \".jpg\".\n",
    "* Saves The Coordinate's Of Boxes In A Json File.\n",
    "* The Box Name In The Json File Is As Follows : [box_\"page-no\"_\"image-no\"]"
   ]
  },
  {
   "cell_type": "markdown",
   "id": "radio-shopper",
   "metadata": {},
   "source": [
    "### Prerequisite's \n",
    "1. An Empty Json File Named \"box_coordinates.json\"\n",
    "2. An Empty Folder Named \"/box_imgs\"\n",
    "3. An Empty Folder Named \"/pdf_imgs\""
   ]
  },
  {
   "cell_type": "markdown",
   "id": "marine-treasury",
   "metadata": {},
   "source": [
    "### Note :\n",
    "    Make Changes In The Notebook For URL Path's Acording To Your System"
   ]
  },
  {
   "cell_type": "markdown",
   "id": "alien-allergy",
   "metadata": {},
   "source": [
    "### Necessary Imports"
   ]
  },
  {
   "cell_type": "code",
   "execution_count": 16,
   "id": "coordinated-session",
   "metadata": {},
   "outputs": [],
   "source": [
    "import pytesseract\n",
    "import cv2\n",
    "import os\n",
    "import json\n",
    "import glob\n",
    "from pdf2image import convert_from_path\n",
    "from PIL import Image\n",
    "from tqdm import tqdm"
   ]
  },
  {
   "cell_type": "markdown",
   "id": "early-multiple",
   "metadata": {},
   "source": [
    "### Pdf To Image Conversion"
   ]
  },
  {
   "cell_type": "code",
   "execution_count": 18,
   "id": "formed-budget",
   "metadata": {},
   "outputs": [],
   "source": [
    "pytesseract.pytesseract.tesseract_cmd=r'C:\\\\Program Files\\\\Tesseract-OCR\\\\tesseract.exe'\n",
    "images = convert_from_path(\"OCR_SANSKRIT/Sanskrit_Text.pdf\",65)\n",
    "path = 'C:/Users/tejas/OneDrive/Documents/GitHub/OCR_SANSKRIT/pdf_imgs/'"
   ]
  },
  {
   "cell_type": "code",
   "execution_count": 19,
   "id": "paperback-hardware",
   "metadata": {},
   "outputs": [],
   "source": [
    "for i in range(len(images)):   \n",
    "      # Save pages as images in the pdf\n",
    "    images[i].save(os.path.join(path ,'page'+ str(i) +'.jpg'), 'JPEG')"
   ]
  },
  {
   "cell_type": "markdown",
   "id": "confused-parks",
   "metadata": {},
   "source": [
    "### Saving Images In List Format"
   ]
  },
  {
   "cell_type": "code",
   "execution_count": 20,
   "id": "removable-syracuse",
   "metadata": {},
   "outputs": [],
   "source": [
    "img_list = list(map(cv2.imread,glob.glob('{}*.jpg'.format(path))))"
   ]
  },
  {
   "cell_type": "markdown",
   "id": "elementary-lincoln",
   "metadata": {},
   "source": [
    "### Appending Data To Json File"
   ]
  },
  {
   "cell_type": "code",
   "execution_count": 22,
   "id": "satellite-communications",
   "metadata": {},
   "outputs": [],
   "source": [
    "def box_details(name,tl,tr,bl,br):\n",
    "    with open('C:/Users/tejas/OneDrive/Documents/GitHub/OCR_SANSKRIT/box_coordinates.json', mode='r', encoding='utf-8') as jf:\n",
    "        data = json.load(jf)\n",
    "        temp = data['Bounding_Boxes']\n",
    "        # python object to be appended\n",
    "        y = {'name': name, 'top_left': tl ,'top_right': tr ,'bottom_left': bl , 'bottom_right': br}\n",
    "        # appending data to 'Bounding_Boxes'\n",
    "        temp.append(y)\n",
    "    write_json(data)"
   ]
  },
  {
   "cell_type": "markdown",
   "id": "architectural-tampa",
   "metadata": {},
   "source": [
    "### Dumping Data To Json File"
   ]
  },
  {
   "cell_type": "code",
   "execution_count": 21,
   "id": "agreed-rouge",
   "metadata": {},
   "outputs": [],
   "source": [
    "def write_json(data, filename='C:/Users/tejas/OneDrive/Documents/GitHub/OCR_SANSKRIT/box_coordinates.json'):\n",
    "    with open(filename,'w') as f:\n",
    "        json.dump(data, f, indent=4)"
   ]
  },
  {
   "cell_type": "markdown",
   "id": "noble-straight",
   "metadata": {},
   "source": [
    "### Code For Generating Bounding Boxes"
   ]
  },
  {
   "cell_type": "code",
   "execution_count": 23,
   "id": "hazardous-harvest",
   "metadata": {},
   "outputs": [
    {
     "name": "stderr",
     "output_type": "stream",
     "text": [
      "100%|██████████| 5/5 [00:28<00:00,  5.73s/it]\n"
     ]
    }
   ],
   "source": [
    "counter = 1\n",
    "for i in tqdm(range(len(img_list))):\n",
    "    img = img_list[i]\n",
    "    hImg,wImg,_ = img.shape\n",
    "    img = cv2.cvtColor(img,cv2.COLOR_BGR2RGB)\n",
    "    original = img.copy()\n",
    "    boxes = pytesseract.image_to_data(img, lang = 'hin')\n",
    "    for x,b in enumerate(boxes.splitlines()):\n",
    "        ROI_number = x\n",
    "        if x!=0 :\n",
    "            b = b.split()\n",
    "            if len(b) == 12:\n",
    "                x,y,w,h = int(b[6]),int(b[7]),int(b[8]),int(b[9])\n",
    "                cv2.rectangle(img,(x,y),(w+x,h+y),(0,0,255),1)\n",
    "                ROI = original[y:y+h, x:x+w]\n",
    "                cv2.imwrite('C:/Users/tejas/OneDrive/Documents/GitHub/OCR_SANSKRIT/box_imgs/box_{}_{}.png'.format(counter,ROI_number), ROI)\n",
    "                name = 'box_{}_{}'.format(counter,ROI_number)\n",
    "                tl = '[{},{}]'.format(x , y)\n",
    "                tr = '[{},{}]'.format(x+w , y)\n",
    "                bl = '[{},{}]'.format(x , y+h)\n",
    "                br = '[{},{}]'.format(x+w , y+h)\n",
    "                box_details(name,tl,tr,bl,br)\n",
    "    counter = counter + 1"
   ]
  },
  {
   "cell_type": "markdown",
   "id": "running-database",
   "metadata": {},
   "source": [
    "   #### Once The Prgress Bar Is Completed Check For The Data In Respective Files"
   ]
  },
  {
   "cell_type": "markdown",
   "id": "reverse-voltage",
   "metadata": {},
   "source": [
    " "
   ]
  },
  {
   "cell_type": "markdown",
   "id": "reverse-delivery",
   "metadata": {},
   "source": [
    " "
   ]
  },
  {
   "cell_type": "markdown",
   "id": "therapeutic-importance",
   "metadata": {},
   "source": [
    "<h5><center>Disclaimer : The Engine Is Not Trained Enough For Detecting All Possible Words !</center></h5>"
   ]
  }
 ],
 "metadata": {
  "kernelspec": {
   "display_name": "Python 3",
   "language": "python",
   "name": "python3"
  },
  "language_info": {
   "codemirror_mode": {
    "name": "ipython",
    "version": 3
   },
   "file_extension": ".py",
   "mimetype": "text/x-python",
   "name": "python",
   "nbconvert_exporter": "python",
   "pygments_lexer": "ipython3",
   "version": "3.8.5"
  }
 },
 "nbformat": 4,
 "nbformat_minor": 5
}
