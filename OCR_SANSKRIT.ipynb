{
 "cells": [
  {
   "cell_type": "markdown",
   "id": "alien-allergy",
   "metadata": {},
   "source": [
    "### Necessary Imports"
   ]
  },
  {
   "cell_type": "code",
   "execution_count": 9,
   "id": "coordinated-session",
   "metadata": {},
   "outputs": [],
   "source": [
    "from PIL import Image\n",
    "import pytesseract\n",
    "from pytesseract import Output\n",
    "import cv2\n",
    "from pdf2image import convert_from_path\n",
    "import os\n",
    "import glob\n",
    "import json"
   ]
  },
  {
   "cell_type": "markdown",
   "id": "early-multiple",
   "metadata": {},
   "source": [
    "### Pdf To Image Conversion"
   ]
  },
  {
   "cell_type": "code",
   "execution_count": 10,
   "id": "formed-budget",
   "metadata": {},
   "outputs": [],
   "source": [
    "pytesseract.pytesseract.tesseract_cmd=r'C:\\\\Program Files\\\\Tesseract-OCR\\\\tesseract.exe'\n",
    "images = convert_from_path(\"Sanskrit_Text.pdf\",65)\n",
    "path = 'C:/Users/tejas/OCR/'"
   ]
  },
  {
   "cell_type": "code",
   "execution_count": 11,
   "id": "paperback-hardware",
   "metadata": {},
   "outputs": [],
   "source": [
    "for i in range(len(images)):   \n",
    "      # Save pages as images in the pdf\n",
    "    images[i].save(os.path.join(path ,'page'+ str(i) +'.jpg'), 'JPEG')"
   ]
  },
  {
   "cell_type": "markdown",
   "id": "confused-parks",
   "metadata": {},
   "source": [
    "### Saving Images In List Format"
   ]
  },
  {
   "cell_type": "code",
   "execution_count": 12,
   "id": "removable-syracuse",
   "metadata": {},
   "outputs": [],
   "source": [
    "img_list = list(map(cv2.imread,glob.glob('{}*.jpg'.format(path))))"
   ]
  },
  {
   "cell_type": "markdown",
   "id": "moderate-symphony",
   "metadata": {},
   "source": [
    "### Dumping Data To Json File"
   ]
  },
  {
   "cell_type": "code",
   "execution_count": 13,
   "id": "agreed-rouge",
   "metadata": {},
   "outputs": [],
   "source": [
    "def write_json(data, filename='C:/Users/tejas/OCR_BOXES/box_coordinates.json'):\n",
    "    with open(filename,'w') as f:\n",
    "        json.dump(data, f, indent=4)"
   ]
  },
  {
   "cell_type": "markdown",
   "id": "broke-checklist",
   "metadata": {},
   "source": [
    "### Appending Data To Json File"
   ]
  },
  {
   "cell_type": "code",
   "execution_count": 14,
   "id": "satellite-communications",
   "metadata": {},
   "outputs": [],
   "source": [
    "def box_details(name,tl,tr,bl,br):\n",
    "    with open('C:/Users/tejas/OCR_BOXES/box_coordinates.json', mode='r', encoding='utf-8') as jf:\n",
    "        data = json.load(jf)\n",
    "        temp = data['Bounding_Boxes']\n",
    "        # python object to be appended\n",
    "        y = {'name': name, 'top_left': tl ,'top_right': tr ,'bottom_left': bl , 'bottom_right': br}\n",
    "        # appending data to 'Bounding_Boxes'\n",
    "        temp.append(y)\n",
    "    write_json(data)"
   ]
  },
  {
   "cell_type": "markdown",
   "id": "noble-straight",
   "metadata": {},
   "source": [
    "### Code For Generating Bounding Boxes"
   ]
  },
  {
   "cell_type": "code",
   "execution_count": 15,
   "id": "hazardous-harvest",
   "metadata": {},
   "outputs": [],
   "source": [
    "bar = progressbar.ProgressBar(maxval=len(members)).start()\n",
    "counter = 1\n",
    "for i in range(len(img_list)):\n",
    "    img = img_list[i]\n",
    "    hImg,wImg,_ = img.shape\n",
    "    img = cv2.cvtColor(img,cv2.COLOR_BGR2RGB)\n",
    "    original = img.copy()\n",
    "    boxes = pytesseract.image_to_data(img, lang = 'hin')\n",
    "    for x,b in enumerate(boxes.splitlines()):\n",
    "        ROI_number = x\n",
    "        if x!=0 :\n",
    "            b = b.split()\n",
    "            if len(b) == 12:\n",
    "                x,y,w,h = int(b[6]),int(b[7]),int(b[8]),int(b[9])\n",
    "                cv2.rectangle(img,(x,y),(w+x,h+y),(0,0,255),1)\n",
    "                ROI = original[y:y+h, x:x+w]\n",
    "                cv2.imwrite('C:/Users/tejas/OCR_BOXES/box_imgs/box_{}_{}.png'.format(counter,ROI_number), ROI)\n",
    "                name = 'box_{}_{}'.format(counter,ROI_number)\n",
    "                tl = '[{},{}]'.format(x , y)\n",
    "                tr = '[{},{}]'.format(x+w , y)\n",
    "                bl = '[{},{}]'.format(x , y+h)\n",
    "                br = '[{},{}]'.format(x+w , y+h)\n",
    "                box_details(name,tl,tr,bl,br)\n",
    "    counter = counter + 1"
   ]
  },
  {
   "cell_type": "markdown",
   "id": "running-database",
   "metadata": {},
   "source": []
  },
  {
   "cell_type": "code",
   "execution_count": null,
   "id": "physical-thermal",
   "metadata": {},
   "outputs": [],
   "source": []
  },
  {
   "cell_type": "code",
   "execution_count": null,
   "id": "framed-factor",
   "metadata": {},
   "outputs": [],
   "source": []
  },
  {
   "cell_type": "code",
   "execution_count": null,
   "id": "virtual-nickname",
   "metadata": {},
   "outputs": [],
   "source": []
  }
 ],
 "metadata": {
  "kernelspec": {
   "display_name": "Python 3",
   "language": "python",
   "name": "python3"
  },
  "language_info": {
   "codemirror_mode": {
    "name": "ipython",
    "version": 3
   },
   "file_extension": ".py",
   "mimetype": "text/x-python",
   "name": "python",
   "nbconvert_exporter": "python",
   "pygments_lexer": "ipython3",
   "version": "3.8.5"
  }
 },
 "nbformat": 4,
 "nbformat_minor": 5
}
